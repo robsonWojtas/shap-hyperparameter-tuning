{
 "cells": [
  {
   "cell_type": "code",
   "execution_count": 1,
   "metadata": {
    "collapsed": true
   },
   "outputs": [],
   "source": [
    "from sklearn import datasets\n",
    "from sklearn.metrics import classification_report\n",
    "import pandas as pd\n",
    "import numpy as np\n",
    "import matplotlib.pyplot as plt\n",
    "import seaborn as sns\n",
    "from sklearn.svm import SVC\n",
    "from sklearn.model_selection import train_test_split\n",
    "from sklearn.preprocessing import LabelEncoder, StandardScaler\n",
    "from imblearn.under_sampling import OneSidedSelection\n",
    "from imblearn.over_sampling import SMOTE\n",
    "\n",
    "pd.set_option('display.max_columns', None)\n",
    "plt.rcParams['figure.figsize'] = (16, 8.27)  #set graphs size to A4 dimensions\n",
    "sns.set_style('darkgrid')\n",
    "sns.set(font_scale=1.4)"
   ]
  },
  {
   "cell_type": "code",
   "execution_count": 2,
   "outputs": [],
   "source": [
    "dataset = pd.read_csv('../works/data/adult.csv')\n",
    "encoder = LabelEncoder()\n",
    "dataset['income'] = encoder.fit_transform(dataset['income'])\n",
    "dataset['native-country'] = np.where(dataset['native-country'] == 'United-States', 1, 0)\n",
    "dataset['marital-status'] = dataset['marital-status'].replace(\n",
    "    {' Married-civ-spouse': 'Married', ' Never-married': 'Single',\n",
    "     ' Separated': 'Divorced', ' Married-spouse-absent': 'Divorced',\n",
    "     ' Divorced': 'Divorced',\n",
    "     ' Married-AF-spouse': 'Divorced', ' Widowed': 'Widowed'})\n",
    "dataset['workclass'] = np.where(dataset['workclass'] == 'Private', 1, 0)\n",
    "dataset['gender'] = np.where(dataset['gender'] == 'Male', 1, 0)\n",
    "dataset['race'] = np.where(dataset['race'] == 'White', 1, 0)\n",
    "education_mapping = {'Preschool': 0, '1st-4th': 1, '5th-6th': 2, '7th-8th': 3, '9th': 4, '10th': 5,\n",
    "                     '11th': 6, '12th': 7, 'HS-grad': 8, 'Some-college': 0, 'Assoc-acdm': 10,\n",
    "                     'Assoc-voc': 11, 'Bachelors': 12, 'Prof-school': 13, 'Masters': 14, 'Doctorate': 15\n",
    "                     }\n",
    "dataset['education'] = dataset['education'].map(education_mapping)\n",
    "relationship_ordered = dataset.groupby(['relationship'])['income'].count().sort_values().index\n",
    "relationship_ordered = {k: i for i, k in enumerate(relationship_ordered, 0)}\n",
    "dataset['relationship'] = dataset['relationship'].map(relationship_ordered)\n",
    "occupation_ordered = dataset.groupby(['occupation'])['income'].count().sort_values().index\n",
    "occupation_ordered = {k: i for i, k in enumerate(occupation_ordered, 0)}\n",
    "dataset['occupation'] = dataset['occupation'].map(occupation_ordered)\n",
    "marital_ordered = dataset.groupby(['marital-status'])['income'].count().sort_values().index\n",
    "marital_ordered = {k: i for i, k in enumerate(marital_ordered, 0)}\n",
    "dataset['marital-status'] = dataset['marital-status'].map(marital_ordered)\n",
    "dataset.drop('fnlwgt', axis=1, inplace=True)  # it is not a useful feature for predicting the wage class\n",
    "scaler = StandardScaler()\n",
    "scaled_features_balanced_dataset = scaler.fit_transform(dataset.drop('income', axis=1))\n",
    "scaled_features_balanced_dataset = pd.DataFrame(scaled_features_balanced_dataset,\n",
    "                                                columns=dataset.drop('income', axis=1).columns)\n",
    "# undersampling the train set\n",
    "under = OneSidedSelection()\n",
    "x_train_res, y_train_res = under.fit_resample(scaled_features_balanced_dataset, dataset['income'])\n",
    "\n",
    "# oversampling the train set\n",
    "sm = SMOTE()\n",
    "x_train_res, y_train_res = sm.fit_resample(x_train_res, y_train_res)\n",
    "\n",
    "x_train_res = pd.DataFrame(x_train_res, columns=dataset.drop('income', axis=1).columns)\n",
    "\n",
    "# creating the final train\n",
    "final_balanced_dataset = pd.concat([x_train_res, y_train_res], axis=1)\n",
    "y = final_balanced_dataset.income\n",
    "final_balanced_dataset.drop(labels=['income'], axis=1, inplace=True)\n",
    "x = final_balanced_dataset\n",
    "x_train, x_test, y_train, y_test = train_test_split(x, y, test_size=0.2)"
   ],
   "metadata": {
    "collapsed": false
   }
  },
  {
   "cell_type": "code",
   "execution_count": 61,
   "outputs": [
    {
     "data": {
      "text/plain": "   Pregnancies  Glucose  BloodPressure  SkinThickness  Insulin   BMI  \\\n0            6      148             72             35        0  33.6   \n1            1       85             66             29        0  26.6   \n2            8      183             64              0        0  23.3   \n3            1       89             66             23       94  28.1   \n4            0      137             40             35      168  43.1   \n\n   DiabetesPedigreeFunction  Age  \n0                     0.627   50  \n1                     0.351   31  \n2                     0.672   32  \n3                     0.167   21  \n4                     2.288   33  ",
      "text/html": "<div>\n<style scoped>\n    .dataframe tbody tr th:only-of-type {\n        vertical-align: middle;\n    }\n\n    .dataframe tbody tr th {\n        vertical-align: top;\n    }\n\n    .dataframe thead th {\n        text-align: right;\n    }\n</style>\n<table border=\"1\" class=\"dataframe\">\n  <thead>\n    <tr style=\"text-align: right;\">\n      <th></th>\n      <th>Pregnancies</th>\n      <th>Glucose</th>\n      <th>BloodPressure</th>\n      <th>SkinThickness</th>\n      <th>Insulin</th>\n      <th>BMI</th>\n      <th>DiabetesPedigreeFunction</th>\n      <th>Age</th>\n    </tr>\n  </thead>\n  <tbody>\n    <tr>\n      <th>0</th>\n      <td>6</td>\n      <td>148</td>\n      <td>72</td>\n      <td>35</td>\n      <td>0</td>\n      <td>33.6</td>\n      <td>0.627</td>\n      <td>50</td>\n    </tr>\n    <tr>\n      <th>1</th>\n      <td>1</td>\n      <td>85</td>\n      <td>66</td>\n      <td>29</td>\n      <td>0</td>\n      <td>26.6</td>\n      <td>0.351</td>\n      <td>31</td>\n    </tr>\n    <tr>\n      <th>2</th>\n      <td>8</td>\n      <td>183</td>\n      <td>64</td>\n      <td>0</td>\n      <td>0</td>\n      <td>23.3</td>\n      <td>0.672</td>\n      <td>32</td>\n    </tr>\n    <tr>\n      <th>3</th>\n      <td>1</td>\n      <td>89</td>\n      <td>66</td>\n      <td>23</td>\n      <td>94</td>\n      <td>28.1</td>\n      <td>0.167</td>\n      <td>21</td>\n    </tr>\n    <tr>\n      <th>4</th>\n      <td>0</td>\n      <td>137</td>\n      <td>40</td>\n      <td>35</td>\n      <td>168</td>\n      <td>43.1</td>\n      <td>2.288</td>\n      <td>33</td>\n    </tr>\n  </tbody>\n</table>\n</div>"
     },
     "execution_count": 61,
     "metadata": {},
     "output_type": "execute_result"
    }
   ],
   "source": [
    "# iris = datasets.load_wine()\n",
    "# X = pd.DataFrame(iris.data, columns=iris.feature_names)\n",
    "# y = pd.DataFrame(iris.target)\n",
    "# diabetes = pd.read_csv('../works/data/diabetes.csv')\n",
    "# y = diabetes.Outcome\n",
    "# diabetes.drop(labels=['Outcome'], axis=1, inplace=True)\n",
    "# X = diabetes\n",
    "# X.head(5)"
   ],
   "metadata": {
    "collapsed": false
   }
  },
  {
   "cell_type": "code",
   "execution_count": 3,
   "outputs": [
    {
     "data": {
      "text/plain": "0    35657\n1    35657\nName: income, dtype: int64"
     },
     "execution_count": 3,
     "metadata": {},
     "output_type": "execute_result"
    }
   ],
   "source": [
    "y.value_counts()"
   ],
   "metadata": {
    "collapsed": false
   }
  },
  {
   "cell_type": "code",
   "execution_count": 4,
   "outputs": [
    {
     "data": {
      "text/plain": "        age  workclass  education  educational-num  marital-status  \\\n0  0.974183   0.663711   1.052682         1.136512       -1.918314   \n1 -0.995129   0.663711  -0.241697        -1.197259       -0.101107   \n2 -0.046942   0.663711   0.189763        -0.419335        0.807497   \n3 -1.505691  -1.506680  -1.536076        -0.030373       -0.101107   \n4 -0.338691   0.663711  -0.457427        -1.586221       -0.101107   \n\n   occupation  relationship      race   gender  capital-gain  capital-loss  \\\n0    0.658995     -1.303025  0.411743 -1.42001     -0.144804     -0.217127   \n1   -0.563611     -0.567717 -2.428701  0.70422     -0.144804     -0.217127   \n2   -1.786217      0.902898  0.411743  0.70422     -0.144804     -0.217127   \n3   -0.869262     -0.567717  0.411743 -1.42001     -0.144804     -0.217127   \n4   -0.257960      0.167590  0.411743  0.70422     -0.144804     -0.217127   \n\n   hours-per-week  native-country  \n0       -0.034087       -2.957854  \n1       -0.034087        0.338083  \n2        0.772930        0.338083  \n3       -0.841104        0.338083  \n4       -0.841104        0.338083  ",
      "text/html": "<div>\n<style scoped>\n    .dataframe tbody tr th:only-of-type {\n        vertical-align: middle;\n    }\n\n    .dataframe tbody tr th {\n        vertical-align: top;\n    }\n\n    .dataframe thead th {\n        text-align: right;\n    }\n</style>\n<table border=\"1\" class=\"dataframe\">\n  <thead>\n    <tr style=\"text-align: right;\">\n      <th></th>\n      <th>age</th>\n      <th>workclass</th>\n      <th>education</th>\n      <th>educational-num</th>\n      <th>marital-status</th>\n      <th>occupation</th>\n      <th>relationship</th>\n      <th>race</th>\n      <th>gender</th>\n      <th>capital-gain</th>\n      <th>capital-loss</th>\n      <th>hours-per-week</th>\n      <th>native-country</th>\n    </tr>\n  </thead>\n  <tbody>\n    <tr>\n      <th>0</th>\n      <td>0.974183</td>\n      <td>0.663711</td>\n      <td>1.052682</td>\n      <td>1.136512</td>\n      <td>-1.918314</td>\n      <td>0.658995</td>\n      <td>-1.303025</td>\n      <td>0.411743</td>\n      <td>-1.42001</td>\n      <td>-0.144804</td>\n      <td>-0.217127</td>\n      <td>-0.034087</td>\n      <td>-2.957854</td>\n    </tr>\n    <tr>\n      <th>1</th>\n      <td>-0.995129</td>\n      <td>0.663711</td>\n      <td>-0.241697</td>\n      <td>-1.197259</td>\n      <td>-0.101107</td>\n      <td>-0.563611</td>\n      <td>-0.567717</td>\n      <td>-2.428701</td>\n      <td>0.70422</td>\n      <td>-0.144804</td>\n      <td>-0.217127</td>\n      <td>-0.034087</td>\n      <td>0.338083</td>\n    </tr>\n    <tr>\n      <th>2</th>\n      <td>-0.046942</td>\n      <td>0.663711</td>\n      <td>0.189763</td>\n      <td>-0.419335</td>\n      <td>0.807497</td>\n      <td>-1.786217</td>\n      <td>0.902898</td>\n      <td>0.411743</td>\n      <td>0.70422</td>\n      <td>-0.144804</td>\n      <td>-0.217127</td>\n      <td>0.772930</td>\n      <td>0.338083</td>\n    </tr>\n    <tr>\n      <th>3</th>\n      <td>-1.505691</td>\n      <td>-1.506680</td>\n      <td>-1.536076</td>\n      <td>-0.030373</td>\n      <td>-0.101107</td>\n      <td>-0.869262</td>\n      <td>-0.567717</td>\n      <td>0.411743</td>\n      <td>-1.42001</td>\n      <td>-0.144804</td>\n      <td>-0.217127</td>\n      <td>-0.841104</td>\n      <td>0.338083</td>\n    </tr>\n    <tr>\n      <th>4</th>\n      <td>-0.338691</td>\n      <td>0.663711</td>\n      <td>-0.457427</td>\n      <td>-1.586221</td>\n      <td>-0.101107</td>\n      <td>-0.257960</td>\n      <td>0.167590</td>\n      <td>0.411743</td>\n      <td>0.70422</td>\n      <td>-0.144804</td>\n      <td>-0.217127</td>\n      <td>-0.841104</td>\n      <td>0.338083</td>\n    </tr>\n  </tbody>\n</table>\n</div>"
     },
     "execution_count": 4,
     "metadata": {},
     "output_type": "execute_result"
    }
   ],
   "source": [
    "x.head(5)"
   ],
   "metadata": {
    "collapsed": false
   }
  },
  {
   "cell_type": "code",
   "execution_count": 64,
   "outputs": [
    {
     "data": {
      "text/plain": "   Pregnancies   Glucose  BloodPressure  SkinThickness   Insulin       BMI  \\\n0     0.639947  0.848324       0.149641       0.907270 -0.692891  0.204013   \n1    -0.844885 -1.123396      -0.160546       0.530902 -0.692891 -0.684422   \n2     1.233880  1.943724      -0.263941      -1.288212 -0.692891 -1.103255   \n3    -0.844885 -0.998208      -0.160546       0.154533  0.123302 -0.494043   \n4    -1.141852  0.504055      -1.504687       0.907270  0.765836  1.409746   \n\n   DiabetesPedigreeFunction       Age  \n0                  0.468492  1.425995  \n1                 -0.365061 -0.190672  \n2                  0.604397 -0.105584  \n3                 -0.920763 -1.041549  \n4                  5.484909 -0.020496  ",
      "text/html": "<div>\n<style scoped>\n    .dataframe tbody tr th:only-of-type {\n        vertical-align: middle;\n    }\n\n    .dataframe tbody tr th {\n        vertical-align: top;\n    }\n\n    .dataframe thead th {\n        text-align: right;\n    }\n</style>\n<table border=\"1\" class=\"dataframe\">\n  <thead>\n    <tr style=\"text-align: right;\">\n      <th></th>\n      <th>Pregnancies</th>\n      <th>Glucose</th>\n      <th>BloodPressure</th>\n      <th>SkinThickness</th>\n      <th>Insulin</th>\n      <th>BMI</th>\n      <th>DiabetesPedigreeFunction</th>\n      <th>Age</th>\n    </tr>\n  </thead>\n  <tbody>\n    <tr>\n      <th>0</th>\n      <td>0.639947</td>\n      <td>0.848324</td>\n      <td>0.149641</td>\n      <td>0.907270</td>\n      <td>-0.692891</td>\n      <td>0.204013</td>\n      <td>0.468492</td>\n      <td>1.425995</td>\n    </tr>\n    <tr>\n      <th>1</th>\n      <td>-0.844885</td>\n      <td>-1.123396</td>\n      <td>-0.160546</td>\n      <td>0.530902</td>\n      <td>-0.692891</td>\n      <td>-0.684422</td>\n      <td>-0.365061</td>\n      <td>-0.190672</td>\n    </tr>\n    <tr>\n      <th>2</th>\n      <td>1.233880</td>\n      <td>1.943724</td>\n      <td>-0.263941</td>\n      <td>-1.288212</td>\n      <td>-0.692891</td>\n      <td>-1.103255</td>\n      <td>0.604397</td>\n      <td>-0.105584</td>\n    </tr>\n    <tr>\n      <th>3</th>\n      <td>-0.844885</td>\n      <td>-0.998208</td>\n      <td>-0.160546</td>\n      <td>0.154533</td>\n      <td>0.123302</td>\n      <td>-0.494043</td>\n      <td>-0.920763</td>\n      <td>-1.041549</td>\n    </tr>\n    <tr>\n      <th>4</th>\n      <td>-1.141852</td>\n      <td>0.504055</td>\n      <td>-1.504687</td>\n      <td>0.907270</td>\n      <td>0.765836</td>\n      <td>1.409746</td>\n      <td>5.484909</td>\n      <td>-0.020496</td>\n    </tr>\n  </tbody>\n</table>\n</div>"
     },
     "execution_count": 64,
     "metadata": {},
     "output_type": "execute_result"
    }
   ],
   "source": [
    "scaler = StandardScaler()\n",
    "X_tmp = x.copy()\n",
    "X = pd.DataFrame(scaler.fit_transform(X_tmp), columns=x.columns)\n",
    "X.head(5)"
   ],
   "metadata": {
    "collapsed": false
   }
  },
  {
   "cell_type": "code",
   "execution_count": 65,
   "outputs": [
    {
     "data": {
      "text/plain": "1    500\n0    500\nName: Outcome, dtype: int64"
     },
     "execution_count": 65,
     "metadata": {},
     "output_type": "execute_result"
    }
   ],
   "source": [
    "sm = SMOTE()\n",
    "X_res, y_res = sm.fit_resample(X, y)\n",
    "y_res.value_counts()"
   ],
   "metadata": {
    "collapsed": false
   }
  },
  {
   "cell_type": "code",
   "execution_count": 66,
   "outputs": [],
   "source": [
    "X_train, X_test, y_train, y_test = train_test_split(X, y, test_size=0.2, random_state=0)"
   ],
   "metadata": {
    "collapsed": false
   }
  },
  {
   "cell_type": "code",
   "execution_count": 5,
   "outputs": [],
   "source": [
    "kernels = ['linear', 'rbf', 'poly']\n",
    "params = {\n",
    "    'kernel': 'linear',\n",
    "    'tol': 0.01,\n",
    "    'C': 5,\n",
    "}"
   ],
   "metadata": {
    "collapsed": false
   }
  },
  {
   "cell_type": "code",
   "execution_count": 6,
   "outputs": [],
   "source": [
    "model = SVC(**params)"
   ],
   "metadata": {
    "collapsed": false
   }
  },
  {
   "cell_type": "code",
   "execution_count": 8,
   "outputs": [
    {
     "ename": "KeyboardInterrupt",
     "evalue": "",
     "output_type": "error",
     "traceback": [
      "\u001B[1;31m---------------------------------------------------------------------------\u001B[0m",
      "\u001B[1;31mKeyboardInterrupt\u001B[0m                         Traceback (most recent call last)",
      "\u001B[1;32m~\\AppData\\Local\\Temp\\ipykernel_14252\\601773491.py\u001B[0m in \u001B[0;36m<module>\u001B[1;34m\u001B[0m\n\u001B[1;32m----> 1\u001B[1;33m \u001B[0mmodel\u001B[0m\u001B[1;33m.\u001B[0m\u001B[0mfit\u001B[0m\u001B[1;33m(\u001B[0m\u001B[0mx_train\u001B[0m\u001B[1;33m,\u001B[0m \u001B[0my_train\u001B[0m\u001B[1;33m.\u001B[0m\u001B[0mvalues\u001B[0m\u001B[1;33m.\u001B[0m\u001B[0mravel\u001B[0m\u001B[1;33m(\u001B[0m\u001B[1;33m)\u001B[0m\u001B[1;33m)\u001B[0m\u001B[1;33m\u001B[0m\u001B[1;33m\u001B[0m\u001B[0m\n\u001B[0m",
      "\u001B[1;32m~\\Desktop\\MAGISTERKA\\masters-thesis-counterfactuals\\venv\\lib\\site-packages\\sklearn\\svm\\_base.py\u001B[0m in \u001B[0;36mfit\u001B[1;34m(self, X, y, sample_weight)\u001B[0m\n\u001B[0;32m    253\u001B[0m \u001B[1;33m\u001B[0m\u001B[0m\n\u001B[0;32m    254\u001B[0m         \u001B[0mseed\u001B[0m \u001B[1;33m=\u001B[0m \u001B[0mrnd\u001B[0m\u001B[1;33m.\u001B[0m\u001B[0mrandint\u001B[0m\u001B[1;33m(\u001B[0m\u001B[0mnp\u001B[0m\u001B[1;33m.\u001B[0m\u001B[0miinfo\u001B[0m\u001B[1;33m(\u001B[0m\u001B[1;34m\"i\"\u001B[0m\u001B[1;33m)\u001B[0m\u001B[1;33m.\u001B[0m\u001B[0mmax\u001B[0m\u001B[1;33m)\u001B[0m\u001B[1;33m\u001B[0m\u001B[1;33m\u001B[0m\u001B[0m\n\u001B[1;32m--> 255\u001B[1;33m         \u001B[0mfit\u001B[0m\u001B[1;33m(\u001B[0m\u001B[0mX\u001B[0m\u001B[1;33m,\u001B[0m \u001B[0my\u001B[0m\u001B[1;33m,\u001B[0m \u001B[0msample_weight\u001B[0m\u001B[1;33m,\u001B[0m \u001B[0msolver_type\u001B[0m\u001B[1;33m,\u001B[0m \u001B[0mkernel\u001B[0m\u001B[1;33m,\u001B[0m \u001B[0mrandom_seed\u001B[0m\u001B[1;33m=\u001B[0m\u001B[0mseed\u001B[0m\u001B[1;33m)\u001B[0m\u001B[1;33m\u001B[0m\u001B[1;33m\u001B[0m\u001B[0m\n\u001B[0m\u001B[0;32m    256\u001B[0m         \u001B[1;31m# see comment on the other call to np.iinfo in this file\u001B[0m\u001B[1;33m\u001B[0m\u001B[1;33m\u001B[0m\u001B[1;33m\u001B[0m\u001B[0m\n\u001B[0;32m    257\u001B[0m \u001B[1;33m\u001B[0m\u001B[0m\n",
      "\u001B[1;32m~\\Desktop\\MAGISTERKA\\masters-thesis-counterfactuals\\venv\\lib\\site-packages\\sklearn\\svm\\_base.py\u001B[0m in \u001B[0;36m_dense_fit\u001B[1;34m(self, X, y, sample_weight, solver_type, kernel, random_seed)\u001B[0m\n\u001B[0;32m    331\u001B[0m             \u001B[0mepsilon\u001B[0m\u001B[1;33m=\u001B[0m\u001B[0mself\u001B[0m\u001B[1;33m.\u001B[0m\u001B[0mepsilon\u001B[0m\u001B[1;33m,\u001B[0m\u001B[1;33m\u001B[0m\u001B[1;33m\u001B[0m\u001B[0m\n\u001B[0;32m    332\u001B[0m             \u001B[0mmax_iter\u001B[0m\u001B[1;33m=\u001B[0m\u001B[0mself\u001B[0m\u001B[1;33m.\u001B[0m\u001B[0mmax_iter\u001B[0m\u001B[1;33m,\u001B[0m\u001B[1;33m\u001B[0m\u001B[1;33m\u001B[0m\u001B[0m\n\u001B[1;32m--> 333\u001B[1;33m             \u001B[0mrandom_seed\u001B[0m\u001B[1;33m=\u001B[0m\u001B[0mrandom_seed\u001B[0m\u001B[1;33m,\u001B[0m\u001B[1;33m\u001B[0m\u001B[1;33m\u001B[0m\u001B[0m\n\u001B[0m\u001B[0;32m    334\u001B[0m         )\n\u001B[0;32m    335\u001B[0m \u001B[1;33m\u001B[0m\u001B[0m\n",
      "\u001B[1;31mKeyboardInterrupt\u001B[0m: "
     ]
    }
   ],
   "source": [
    "model.fit(x_train, y_train.values.ravel())"
   ],
   "metadata": {
    "collapsed": false
   }
  },
  {
   "cell_type": "code",
   "execution_count": 70,
   "outputs": [],
   "source": [
    "y_pred = model.predict(X_test)"
   ],
   "metadata": {
    "collapsed": false
   }
  },
  {
   "cell_type": "code",
   "execution_count": 71,
   "outputs": [
    {
     "name": "stdout",
     "output_type": "stream",
     "text": [
      "              precision    recall  f1-score   support\n",
      "\n",
      "           0       0.76      0.88      0.82       107\n",
      "           1       0.58      0.38      0.46        47\n",
      "\n",
      "    accuracy                           0.73       154\n",
      "   macro avg       0.67      0.63      0.64       154\n",
      "weighted avg       0.71      0.73      0.71       154\n",
      "\n"
     ]
    }
   ],
   "source": [
    "print(classification_report(y_test, y_pred))"
   ],
   "metadata": {
    "collapsed": false
   }
  },
  {
   "cell_type": "code",
   "execution_count": 71,
   "outputs": [],
   "source": [],
   "metadata": {
    "collapsed": false
   }
  }
 ],
 "metadata": {
  "kernelspec": {
   "display_name": "Python 3",
   "language": "python",
   "name": "python3"
  },
  "language_info": {
   "codemirror_mode": {
    "name": "ipython",
    "version": 2
   },
   "file_extension": ".py",
   "mimetype": "text/x-python",
   "name": "python",
   "nbconvert_exporter": "python",
   "pygments_lexer": "ipython2",
   "version": "2.7.6"
  }
 },
 "nbformat": 4,
 "nbformat_minor": 0
}
