{
 "cells": [
  {
   "cell_type": "code",
   "execution_count": 1,
   "metadata": {
    "collapsed": true
   },
   "outputs": [],
   "source": [
    "import numpy as np\n",
    "import pandas as pd\n",
    "from sklearn.model_selection import train_test_split\n",
    "from sklearn.metrics import roc_curve, roc_auc_score, accuracy_score, classification_report\n",
    "import matplotlib.pyplot as plt\n",
    "import seaborn as sns\n",
    "from xgboost import XGBClassifier\n",
    "from sklearn.preprocessing import LabelEncoder, StandardScaler\n",
    "from imblearn.under_sampling import OneSidedSelection\n",
    "from imblearn.over_sampling import SMOTE\n",
    "\n",
    "pd.set_option('display.max_columns', None)\n",
    "plt.rcParams['figure.figsize'] = (16, 8.27)  #set graphs size to A4 dimensions\n",
    "sns.set_style('darkgrid')\n",
    "sns.set(font_scale=1.4)"
   ]
  },
  {
   "cell_type": "code",
   "execution_count": 2,
   "outputs": [],
   "source": [
    "import warnings\n",
    "\n",
    "warnings.simplefilter(action='ignore', category=FutureWarning)"
   ],
   "metadata": {
    "collapsed": false
   }
  },
  {
   "cell_type": "markdown",
   "source": [
    "# Dataset loading and stats"
   ],
   "metadata": {
    "collapsed": false
   }
  },
  {
   "cell_type": "code",
   "execution_count": 3,
   "outputs": [],
   "source": [
    "# dataset = pd.read_csv('../works/data/adult.csv')\n",
    "dataset = pd.read_csv('../works/data/housing.csv')"
   ],
   "metadata": {
    "collapsed": false
   }
  },
  {
   "cell_type": "code",
   "execution_count": 7,
   "outputs": [],
   "source": [
    "# col_labels = ['age', 'workclass', 'fnlwgt', 'education', 'education-num','marital-status', 'occupation','relationship',\n",
    "#               'race', 'sex', 'capital-gain', 'capital-loss', 'hours-per-week', 'native-country', 'income']\n",
    "col_labels = ['longitude', 'latitude', 'housing_median_age', 'total_rooms', 'total_bedrooms', 'population',\n",
    "              'households', 'median_income',\n",
    "              'median_house_value', 'ocean_proximity']"
   ],
   "metadata": {
    "collapsed": false
   }
  },
  {
   "cell_type": "code",
   "execution_count": 4,
   "outputs": [
    {
     "name": "stdout",
     "output_type": "stream",
     "text": [
      "<class 'pandas.core.frame.DataFrame'>\n",
      "RangeIndex: 20640 entries, 0 to 20639\n",
      "Data columns (total 10 columns):\n",
      " #   Column              Non-Null Count  Dtype  \n",
      "---  ------              --------------  -----  \n",
      " 0   longitude           20640 non-null  float64\n",
      " 1   latitude            20640 non-null  float64\n",
      " 2   housing_median_age  20640 non-null  float64\n",
      " 3   total_rooms         20640 non-null  float64\n",
      " 4   total_bedrooms      20433 non-null  float64\n",
      " 5   population          20640 non-null  float64\n",
      " 6   households          20640 non-null  float64\n",
      " 7   median_income       20640 non-null  float64\n",
      " 8   median_house_value  20640 non-null  float64\n",
      " 9   ocean_proximity     20640 non-null  object \n",
      "dtypes: float64(9), object(1)\n",
      "memory usage: 1.6+ MB\n"
     ]
    }
   ],
   "source": [
    "dataset.info()"
   ],
   "metadata": {
    "collapsed": false
   }
  },
  {
   "cell_type": "code",
   "execution_count": 5,
   "outputs": [
    {
     "data": {
      "text/plain": "          longitude      latitude  housing_median_age   total_rooms  \\\ncount  20640.000000  20640.000000        20640.000000  20640.000000   \nmean    -119.569704     35.631861           28.639486   2635.763081   \nstd        2.003532      2.135952           12.585558   2181.615252   \nmin     -124.350000     32.540000            1.000000      2.000000   \n25%     -121.800000     33.930000           18.000000   1447.750000   \n50%     -118.490000     34.260000           29.000000   2127.000000   \n75%     -118.010000     37.710000           37.000000   3148.000000   \nmax     -114.310000     41.950000           52.000000  39320.000000   \n\n       total_bedrooms    population    households  median_income  \\\ncount    20433.000000  20640.000000  20640.000000   20640.000000   \nmean       537.870553   1425.476744    499.539680       3.870671   \nstd        421.385070   1132.462122    382.329753       1.899822   \nmin          1.000000      3.000000      1.000000       0.499900   \n25%        296.000000    787.000000    280.000000       2.563400   \n50%        435.000000   1166.000000    409.000000       3.534800   \n75%        647.000000   1725.000000    605.000000       4.743250   \nmax       6445.000000  35682.000000   6082.000000      15.000100   \n\n       median_house_value  \ncount        20640.000000  \nmean        206855.816909  \nstd         115395.615874  \nmin          14999.000000  \n25%         119600.000000  \n50%         179700.000000  \n75%         264725.000000  \nmax         500001.000000  ",
      "text/html": "<div>\n<style scoped>\n    .dataframe tbody tr th:only-of-type {\n        vertical-align: middle;\n    }\n\n    .dataframe tbody tr th {\n        vertical-align: top;\n    }\n\n    .dataframe thead th {\n        text-align: right;\n    }\n</style>\n<table border=\"1\" class=\"dataframe\">\n  <thead>\n    <tr style=\"text-align: right;\">\n      <th></th>\n      <th>longitude</th>\n      <th>latitude</th>\n      <th>housing_median_age</th>\n      <th>total_rooms</th>\n      <th>total_bedrooms</th>\n      <th>population</th>\n      <th>households</th>\n      <th>median_income</th>\n      <th>median_house_value</th>\n    </tr>\n  </thead>\n  <tbody>\n    <tr>\n      <th>count</th>\n      <td>20640.000000</td>\n      <td>20640.000000</td>\n      <td>20640.000000</td>\n      <td>20640.000000</td>\n      <td>20433.000000</td>\n      <td>20640.000000</td>\n      <td>20640.000000</td>\n      <td>20640.000000</td>\n      <td>20640.000000</td>\n    </tr>\n    <tr>\n      <th>mean</th>\n      <td>-119.569704</td>\n      <td>35.631861</td>\n      <td>28.639486</td>\n      <td>2635.763081</td>\n      <td>537.870553</td>\n      <td>1425.476744</td>\n      <td>499.539680</td>\n      <td>3.870671</td>\n      <td>206855.816909</td>\n    </tr>\n    <tr>\n      <th>std</th>\n      <td>2.003532</td>\n      <td>2.135952</td>\n      <td>12.585558</td>\n      <td>2181.615252</td>\n      <td>421.385070</td>\n      <td>1132.462122</td>\n      <td>382.329753</td>\n      <td>1.899822</td>\n      <td>115395.615874</td>\n    </tr>\n    <tr>\n      <th>min</th>\n      <td>-124.350000</td>\n      <td>32.540000</td>\n      <td>1.000000</td>\n      <td>2.000000</td>\n      <td>1.000000</td>\n      <td>3.000000</td>\n      <td>1.000000</td>\n      <td>0.499900</td>\n      <td>14999.000000</td>\n    </tr>\n    <tr>\n      <th>25%</th>\n      <td>-121.800000</td>\n      <td>33.930000</td>\n      <td>18.000000</td>\n      <td>1447.750000</td>\n      <td>296.000000</td>\n      <td>787.000000</td>\n      <td>280.000000</td>\n      <td>2.563400</td>\n      <td>119600.000000</td>\n    </tr>\n    <tr>\n      <th>50%</th>\n      <td>-118.490000</td>\n      <td>34.260000</td>\n      <td>29.000000</td>\n      <td>2127.000000</td>\n      <td>435.000000</td>\n      <td>1166.000000</td>\n      <td>409.000000</td>\n      <td>3.534800</td>\n      <td>179700.000000</td>\n    </tr>\n    <tr>\n      <th>75%</th>\n      <td>-118.010000</td>\n      <td>37.710000</td>\n      <td>37.000000</td>\n      <td>3148.000000</td>\n      <td>647.000000</td>\n      <td>1725.000000</td>\n      <td>605.000000</td>\n      <td>4.743250</td>\n      <td>264725.000000</td>\n    </tr>\n    <tr>\n      <th>max</th>\n      <td>-114.310000</td>\n      <td>41.950000</td>\n      <td>52.000000</td>\n      <td>39320.000000</td>\n      <td>6445.000000</td>\n      <td>35682.000000</td>\n      <td>6082.000000</td>\n      <td>15.000100</td>\n      <td>500001.000000</td>\n    </tr>\n  </tbody>\n</table>\n</div>"
     },
     "execution_count": 5,
     "metadata": {},
     "output_type": "execute_result"
    }
   ],
   "source": [
    "dataset.describe()"
   ],
   "metadata": {
    "collapsed": false
   }
  },
  {
   "cell_type": "code",
   "execution_count": 7,
   "outputs": [
    {
     "name": "stdout",
     "output_type": "stream",
     "text": [
      "categorical features: \n",
      " ['workclass', 'education', 'marital-status', 'occupation', 'relationship', 'race', 'gender', 'native-country']\n",
      "\n",
      "\n",
      "numerical features: \n",
      " ['age', 'fnlwgt', 'educational-num', 'capital-gain', 'capital-loss', 'hours-per-week']\n"
     ]
    }
   ],
   "source": [
    "#find out numerical and categorical features for train set\n",
    "\n",
    "numerical_features = [feature for feature in dataset.columns if dataset[feature].dtype != 'O']\n",
    "categorical_features = [feature for feature in dataset.columns if dataset[feature].dtype == 'O' and feature != 'income']\n",
    "\n",
    "print('categorical features: ''\\n', categorical_features)\n",
    "print('\\n')\n",
    "print('numerical features: ''\\n', numerical_features)"
   ],
   "metadata": {
    "collapsed": false
   }
  },
  {
   "cell_type": "code",
   "execution_count": 6,
   "outputs": [
    {
     "data": {
      "text/plain": "longitude               0\nlatitude                0\nhousing_median_age      0\ntotal_rooms             0\ntotal_bedrooms        207\npopulation              0\nhouseholds              0\nmedian_income           0\nmedian_house_value      0\nocean_proximity         0\ndtype: int64"
     },
     "execution_count": 6,
     "metadata": {},
     "output_type": "execute_result"
    }
   ],
   "source": [
    "#Check for missing values\n",
    "dataset.isnull().sum()"
   ],
   "metadata": {
    "collapsed": false
   }
  },
  {
   "cell_type": "code",
   "execution_count": 9,
   "outputs": [
    {
     "name": "stdout",
     "output_type": "stream",
     "text": [
      "age : 74\n",
      "fnlwgt : 28523\n",
      "educational-num : 16\n",
      "capital-gain : 123\n",
      "capital-loss : 99\n",
      "hours-per-week : 96\n"
     ]
    }
   ],
   "source": [
    "#Find out distinct values for each numerical feature\n",
    "for feature in numerical_features:\n",
    "    print(feature, ':', dataset[feature].nunique())"
   ],
   "metadata": {
    "collapsed": false
   }
  },
  {
   "cell_type": "code",
   "execution_count": 10,
   "outputs": [
    {
     "name": "stdout",
     "output_type": "stream",
     "text": [
      "workclass : 9\n",
      "education : 16\n",
      "marital-status : 7\n",
      "occupation : 15\n",
      "relationship : 6\n",
      "race : 5\n",
      "gender : 2\n",
      "native-country : 42\n"
     ]
    }
   ],
   "source": [
    "#Find out distinct values for each categorical feature\n",
    "for feature in categorical_features:\n",
    "    print(feature, ':', dataset[feature].nunique())"
   ],
   "metadata": {
    "collapsed": false
   }
  },
  {
   "cell_type": "code",
   "execution_count": 11,
   "outputs": [
    {
     "data": {
      "text/plain": "<=50K    0.760718\n>50K     0.239282\nName: income, dtype: float64"
     },
     "execution_count": 11,
     "metadata": {},
     "output_type": "execute_result"
    }
   ],
   "source": [
    "#Check for imbalanced target (In our case 76% are in class <=50K and 24% >50K)\n",
    "dataset['income'].value_counts('f')"
   ],
   "metadata": {
    "collapsed": false
   }
  },
  {
   "cell_type": "code",
   "execution_count": 12,
   "outputs": [
    {
     "data": {
      "text/plain": "<Figure size 1600x827 with 1 Axes>",
      "image/png": "[encoded data removed]"
     },
     "metadata": {},
     "output_type": "display_data"
    }
   ],
   "source": [
    "ax = sns.countplot(x=dataset['income'], hue=dataset['income'], edgecolor='k', palette='Set2')\n",
    "ax.set_title('Income Class Count')\n",
    "ax.set_xlabel('Income')\n",
    "plt.show()"
   ],
   "metadata": {
    "collapsed": false
   }
  },
  {
   "cell_type": "markdown",
   "source": [
    "# Non-balanced, numerical only dataset and experiments"
   ],
   "metadata": {
    "collapsed": false
   }
  },
  {
   "cell_type": "code",
   "execution_count": 13,
   "outputs": [],
   "source": [
    "n_balanced_dataset = dataset.copy()\n",
    "n_balanced_dataset['income'] = n_balanced_dataset['income'].map({'<=50K': 0, '<=50K.': 0, '>50K': 1, '>50K': 1})\n",
    "n_balanced_dataset['workclass'] = n_balanced_dataset['workclass'].replace(['?'], 'Unknown')\n",
    "n_balanced_dataset['marital-status'] = n_balanced_dataset['marital-status'].replace(\n",
    "    ['Married-civ-spouse', 'Married-spouse-absent', 'Married-AF-spouse'], 'Married')\n",
    "n_balanced_dataset['marital-status'] = n_balanced_dataset['marital-status'].replace(\n",
    "    ['Never-married', 'Divorced', 'Separated', 'Widowed'],\n",
    "    'Single')\n",
    "n_balanced_dataset['marital-status'] = n_balanced_dataset['marital-status'].map({'Married': 0, 'Single': 1})\n",
    "n_balanced_dataset['marital-status'] = n_balanced_dataset['marital-status']\n",
    "n_balanced_dataset.drop(\n",
    "    labels=['gender', 'workclass', 'education', 'occupation', 'relationship', 'race', 'native-country'],\n",
    "    axis=1, inplace=True)"
   ],
   "metadata": {
    "collapsed": false
   }
  },
  {
   "cell_type": "code",
   "execution_count": 14,
   "outputs": [
    {
     "data": {
      "text/plain": "   age  fnlwgt  educational-num  marital-status  capital-gain  capital-loss  \\\n0   25  226802                7               1             0             0   \n1   38   89814                9               0             0             0   \n2   28  336951               12               0             0             0   \n3   44  160323               10               0          7688             0   \n4   18  103497               10               1             0             0   \n5   34  198693                6               1             0             0   \n6   29  227026                9               1             0             0   \n7   63  104626               15               0          3103             0   \n8   24  369667               10               1             0             0   \n9   55  104996                4               0             0             0   \n\n   hours-per-week  income  \n0              40       0  \n1              50       0  \n2              40       1  \n3              40       1  \n4              30       0  \n5              30       0  \n6              40       0  \n7              32       1  \n8              40       0  \n9              10       0  ",
      "text/html": "<div>\n<style scoped>\n    .dataframe tbody tr th:only-of-type {\n        vertical-align: middle;\n    }\n\n    .dataframe tbody tr th {\n        vertical-align: top;\n    }\n\n    .dataframe thead th {\n        text-align: right;\n    }\n</style>\n<table border=\"1\" class=\"dataframe\">\n  <thead>\n    <tr style=\"text-align: right;\">\n      <th></th>\n      <th>age</th>\n      <th>fnlwgt</th>\n      <th>educational-num</th>\n      <th>marital-status</th>\n      <th>capital-gain</th>\n      <th>capital-loss</th>\n      <th>hours-per-week</th>\n      <th>income</th>\n    </tr>\n  </thead>\n  <tbody>\n    <tr>\n      <th>0</th>\n      <td>25</td>\n      <td>226802</td>\n      <td>7</td>\n      <td>1</td>\n      <td>0</td>\n      <td>0</td>\n      <td>40</td>\n      <td>0</td>\n    </tr>\n    <tr>\n      <th>1</th>\n      <td>38</td>\n      <td>89814</td>\n      <td>9</td>\n      <td>0</td>\n      <td>0</td>\n      <td>0</td>\n      <td>50</td>\n      <td>0</td>\n    </tr>\n    <tr>\n      <th>2</th>\n      <td>28</td>\n      <td>336951</td>\n      <td>12</td>\n      <td>0</td>\n      <td>0</td>\n      <td>0</td>\n      <td>40</td>\n      <td>1</td>\n    </tr>\n    <tr>\n      <th>3</th>\n      <td>44</td>\n      <td>160323</td>\n      <td>10</td>\n      <td>0</td>\n      <td>7688</td>\n      <td>0</td>\n      <td>40</td>\n      <td>1</td>\n    </tr>\n    <tr>\n      <th>4</th>\n      <td>18</td>\n      <td>103497</td>\n      <td>10</td>\n      <td>1</td>\n      <td>0</td>\n      <td>0</td>\n      <td>30</td>\n      <td>0</td>\n    </tr>\n    <tr>\n      <th>5</th>\n      <td>34</td>\n      <td>198693</td>\n      <td>6</td>\n      <td>1</td>\n      <td>0</td>\n      <td>0</td>\n      <td>30</td>\n      <td>0</td>\n    </tr>\n    <tr>\n      <th>6</th>\n      <td>29</td>\n      <td>227026</td>\n      <td>9</td>\n      <td>1</td>\n      <td>0</td>\n      <td>0</td>\n      <td>40</td>\n      <td>0</td>\n    </tr>\n    <tr>\n      <th>7</th>\n      <td>63</td>\n      <td>104626</td>\n      <td>15</td>\n      <td>0</td>\n      <td>3103</td>\n      <td>0</td>\n      <td>32</td>\n      <td>1</td>\n    </tr>\n    <tr>\n      <th>8</th>\n      <td>24</td>\n      <td>369667</td>\n      <td>10</td>\n      <td>1</td>\n      <td>0</td>\n      <td>0</td>\n      <td>40</td>\n      <td>0</td>\n    </tr>\n    <tr>\n      <th>9</th>\n      <td>55</td>\n      <td>104996</td>\n      <td>4</td>\n      <td>0</td>\n      <td>0</td>\n      <td>0</td>\n      <td>10</td>\n      <td>0</td>\n    </tr>\n  </tbody>\n</table>\n</div>"
     },
     "execution_count": 14,
     "metadata": {},
     "output_type": "execute_result"
    }
   ],
   "source": [
    "n_balanced_dataset.head(10)"
   ],
   "metadata": {
    "collapsed": false
   }
  },
  {
   "cell_type": "code",
   "execution_count": 15,
   "outputs": [
    {
     "data": {
      "text/plain": "   age  fnlwgt  educational-num  marital-status  capital-gain  capital-loss  \\\n0   25  226802                7               1             0             0   \n1   38   89814                9               0             0             0   \n2   28  336951               12               0             0             0   \n3   44  160323               10               0          7688             0   \n4   18  103497               10               1             0             0   \n\n   hours-per-week  \n0              40  \n1              50  \n2              40  \n3              40  \n4              30  ",
      "text/html": "<div>\n<style scoped>\n    .dataframe tbody tr th:only-of-type {\n        vertical-align: middle;\n    }\n\n    .dataframe tbody tr th {\n        vertical-align: top;\n    }\n\n    .dataframe thead th {\n        text-align: right;\n    }\n</style>\n<table border=\"1\" class=\"dataframe\">\n  <thead>\n    <tr style=\"text-align: right;\">\n      <th></th>\n      <th>age</th>\n      <th>fnlwgt</th>\n      <th>educational-num</th>\n      <th>marital-status</th>\n      <th>capital-gain</th>\n      <th>capital-loss</th>\n      <th>hours-per-week</th>\n    </tr>\n  </thead>\n  <tbody>\n    <tr>\n      <th>0</th>\n      <td>25</td>\n      <td>226802</td>\n      <td>7</td>\n      <td>1</td>\n      <td>0</td>\n      <td>0</td>\n      <td>40</td>\n    </tr>\n    <tr>\n      <th>1</th>\n      <td>38</td>\n      <td>89814</td>\n      <td>9</td>\n      <td>0</td>\n      <td>0</td>\n      <td>0</td>\n      <td>50</td>\n    </tr>\n    <tr>\n      <th>2</th>\n      <td>28</td>\n      <td>336951</td>\n      <td>12</td>\n      <td>0</td>\n      <td>0</td>\n      <td>0</td>\n      <td>40</td>\n    </tr>\n    <tr>\n      <th>3</th>\n      <td>44</td>\n      <td>160323</td>\n      <td>10</td>\n      <td>0</td>\n      <td>7688</td>\n      <td>0</td>\n      <td>40</td>\n    </tr>\n    <tr>\n      <th>4</th>\n      <td>18</td>\n      <td>103497</td>\n      <td>10</td>\n      <td>1</td>\n      <td>0</td>\n      <td>0</td>\n      <td>30</td>\n    </tr>\n  </tbody>\n</table>\n</div>"
     },
     "execution_count": 15,
     "metadata": {},
     "output_type": "execute_result"
    }
   ],
   "source": [
    "Y = n_balanced_dataset.income\n",
    "n_balanced_dataset.drop(labels=['income'], axis=1, inplace=True)\n",
    "n_balanced_dataset.head(5)"
   ],
   "metadata": {
    "collapsed": false
   }
  },
  {
   "cell_type": "code",
   "execution_count": 16,
   "outputs": [],
   "source": [
    "n_X_train, n_X_test, n_y_train, n_y_test = train_test_split(n_balanced_dataset, Y, test_size=0.2, random_state=0)"
   ],
   "metadata": {
    "collapsed": false
   }
  },
  {
   "cell_type": "code",
   "execution_count": 17,
   "outputs": [],
   "source": [
    "n_balanced_model = XGBClassifier()"
   ],
   "metadata": {
    "collapsed": false
   }
  },
  {
   "cell_type": "code",
   "execution_count": 18,
   "outputs": [
    {
     "data": {
      "text/plain": "XGBClassifier(base_score=0.5, booster='gbtree', callbacks=None,\n              colsample_bylevel=1, colsample_bynode=1, colsample_bytree=1,\n              early_stopping_rounds=None, enable_categorical=False,\n              eval_metric=None, gamma=0, gpu_id=-1, grow_policy='depthwise',\n              importance_type=None, interaction_constraints='',\n              learning_rate=0.300000012, max_bin=256, max_cat_to_onehot=4,\n              max_delta_step=0, max_depth=6, max_leaves=0, min_child_weight=1,\n              missing=nan, monotone_constraints='()', n_estimators=100,\n              n_jobs=0, num_parallel_tree=1, predictor='auto', random_state=0,\n              reg_alpha=0, reg_lambda=1, ...)"
     },
     "execution_count": 18,
     "metadata": {},
     "output_type": "execute_result"
    }
   ],
   "source": [
    "n_balanced_model.fit(n_X_train, n_y_train)"
   ],
   "metadata": {
    "collapsed": false
   }
  },
  {
   "cell_type": "code",
   "execution_count": 19,
   "outputs": [],
   "source": [
    "n_y_pred = n_balanced_model.predict(n_X_test)"
   ],
   "metadata": {
    "collapsed": false
   }
  },
  {
   "cell_type": "code",
   "execution_count": 20,
   "outputs": [
    {
     "name": "stdout",
     "output_type": "stream",
     "text": [
      "              precision    recall  f1-score   support\n",
      "\n",
      "           0       0.88      0.94      0.91      7420\n",
      "           1       0.77      0.60      0.68      2349\n",
      "\n",
      "    accuracy                           0.86      9769\n",
      "   macro avg       0.83      0.77      0.79      9769\n",
      "weighted avg       0.86      0.86      0.85      9769\n",
      "\n"
     ]
    }
   ],
   "source": [
    "print(classification_report(n_y_test, n_y_pred))"
   ],
   "metadata": {
    "collapsed": false
   }
  },
  {
   "cell_type": "code",
   "execution_count": 21,
   "outputs": [
    {
     "name": "stdout",
     "output_type": "stream",
     "text": [
      "0.8609888422561163\n"
     ]
    }
   ],
   "source": [
    "print(accuracy_score(n_y_test, n_y_pred))"
   ],
   "metadata": {
    "collapsed": false
   }
  },
  {
   "cell_type": "markdown",
   "source": [
    "# Balanced set and experiments"
   ],
   "metadata": {
    "collapsed": false
   }
  },
  {
   "cell_type": "code",
   "execution_count": 22,
   "outputs": [
    {
     "data": {
      "text/plain": "   age  workclass  fnlwgt     education  educational-num      marital-status  \\\n0   25    Private  226802          11th                7       Never-married   \n1   38    Private   89814       HS-grad                9  Married-civ-spouse   \n2   28  Local-gov  336951    Assoc-acdm               12  Married-civ-spouse   \n3   44    Private  160323  Some-college               10  Married-civ-spouse   \n4   18          ?  103497  Some-college               10       Never-married   \n\n          occupation relationship   race  gender  capital-gain  capital-loss  \\\n0  Machine-op-inspct    Own-child  Black    Male             0             0   \n1    Farming-fishing      Husband  White    Male             0             0   \n2    Protective-serv      Husband  White    Male             0             0   \n3  Machine-op-inspct      Husband  Black    Male          7688             0   \n4                  ?    Own-child  White  Female             0             0   \n\n   hours-per-week native-country income  \n0              40  United-States  <=50K  \n1              50  United-States  <=50K  \n2              40  United-States   >50K  \n3              40  United-States   >50K  \n4              30  United-States  <=50K  ",
      "text/html": "<div>\n<style scoped>\n    .dataframe tbody tr th:only-of-type {\n        vertical-align: middle;\n    }\n\n    .dataframe tbody tr th {\n        vertical-align: top;\n    }\n\n    .dataframe thead th {\n        text-align: right;\n    }\n</style>\n<table border=\"1\" class=\"dataframe\">\n  <thead>\n    <tr style=\"text-align: right;\">\n      <th></th>\n      <th>age</th>\n      <th>workclass</th>\n      <th>fnlwgt</th>\n      <th>education</th>\n      <th>educational-num</th>\n      <th>marital-status</th>\n      <th>occupation</th>\n      <th>relationship</th>\n      <th>race</th>\n      <th>gender</th>\n      <th>capital-gain</th>\n      <th>capital-loss</th>\n      <th>hours-per-week</th>\n      <th>native-country</th>\n      <th>income</th>\n    </tr>\n  </thead>\n  <tbody>\n    <tr>\n      <th>0</th>\n      <td>25</td>\n      <td>Private</td>\n      <td>226802</td>\n      <td>11th</td>\n      <td>7</td>\n      <td>Never-married</td>\n      <td>Machine-op-inspct</td>\n      <td>Own-child</td>\n      <td>Black</td>\n      <td>Male</td>\n      <td>0</td>\n      <td>0</td>\n      <td>40</td>\n      <td>United-States</td>\n      <td>&lt;=50K</td>\n    </tr>\n    <tr>\n      <th>1</th>\n      <td>38</td>\n      <td>Private</td>\n      <td>89814</td>\n      <td>HS-grad</td>\n      <td>9</td>\n      <td>Married-civ-spouse</td>\n      <td>Farming-fishing</td>\n      <td>Husband</td>\n      <td>White</td>\n      <td>Male</td>\n      <td>0</td>\n      <td>0</td>\n      <td>50</td>\n      <td>United-States</td>\n      <td>&lt;=50K</td>\n    </tr>\n    <tr>\n      <th>2</th>\n      <td>28</td>\n      <td>Local-gov</td>\n      <td>336951</td>\n      <td>Assoc-acdm</td>\n      <td>12</td>\n      <td>Married-civ-spouse</td>\n      <td>Protective-serv</td>\n      <td>Husband</td>\n      <td>White</td>\n      <td>Male</td>\n      <td>0</td>\n      <td>0</td>\n      <td>40</td>\n      <td>United-States</td>\n      <td>&gt;50K</td>\n    </tr>\n    <tr>\n      <th>3</th>\n      <td>44</td>\n      <td>Private</td>\n      <td>160323</td>\n      <td>Some-college</td>\n      <td>10</td>\n      <td>Married-civ-spouse</td>\n      <td>Machine-op-inspct</td>\n      <td>Husband</td>\n      <td>Black</td>\n      <td>Male</td>\n      <td>7688</td>\n      <td>0</td>\n      <td>40</td>\n      <td>United-States</td>\n      <td>&gt;50K</td>\n    </tr>\n    <tr>\n      <th>4</th>\n      <td>18</td>\n      <td>?</td>\n      <td>103497</td>\n      <td>Some-college</td>\n      <td>10</td>\n      <td>Never-married</td>\n      <td>?</td>\n      <td>Own-child</td>\n      <td>White</td>\n      <td>Female</td>\n      <td>0</td>\n      <td>0</td>\n      <td>30</td>\n      <td>United-States</td>\n      <td>&lt;=50K</td>\n    </tr>\n  </tbody>\n</table>\n</div>"
     },
     "execution_count": 22,
     "metadata": {},
     "output_type": "execute_result"
    }
   ],
   "source": [
    "balanced_dataset = dataset.copy()\n",
    "balanced_dataset.head(5)"
   ],
   "metadata": {
    "collapsed": false
   }
  },
  {
   "cell_type": "markdown",
   "source": [
    "## Data preprocessing"
   ],
   "metadata": {
    "collapsed": false
   }
  },
  {
   "cell_type": "code",
   "execution_count": 23,
   "outputs": [
    {
     "data": {
      "text/plain": "   age  workclass  fnlwgt     education  educational-num      marital-status  \\\n0   25    Private  226802          11th                7       Never-married   \n1   38    Private   89814       HS-grad                9  Married-civ-spouse   \n2   28  Local-gov  336951    Assoc-acdm               12  Married-civ-spouse   \n3   44    Private  160323  Some-college               10  Married-civ-spouse   \n4   18          ?  103497  Some-college               10       Never-married   \n\n          occupation relationship   race  gender  capital-gain  capital-loss  \\\n0  Machine-op-inspct    Own-child  Black    Male             0             0   \n1    Farming-fishing      Husband  White    Male             0             0   \n2    Protective-serv      Husband  White    Male             0             0   \n3  Machine-op-inspct      Husband  Black    Male          7688             0   \n4                  ?    Own-child  White  Female             0             0   \n\n   hours-per-week native-country  income  \n0              40  United-States       0  \n1              50  United-States       0  \n2              40  United-States       1  \n3              40  United-States       1  \n4              30  United-States       0  ",
      "text/html": "<div>\n<style scoped>\n    .dataframe tbody tr th:only-of-type {\n        vertical-align: middle;\n    }\n\n    .dataframe tbody tr th {\n        vertical-align: top;\n    }\n\n    .dataframe thead th {\n        text-align: right;\n    }\n</style>\n<table border=\"1\" class=\"dataframe\">\n  <thead>\n    <tr style=\"text-align: right;\">\n      <th></th>\n      <th>age</th>\n      <th>workclass</th>\n      <th>fnlwgt</th>\n      <th>education</th>\n      <th>educational-num</th>\n      <th>marital-status</th>\n      <th>occupation</th>\n      <th>relationship</th>\n      <th>race</th>\n      <th>gender</th>\n      <th>capital-gain</th>\n      <th>capital-loss</th>\n      <th>hours-per-week</th>\n      <th>native-country</th>\n      <th>income</th>\n    </tr>\n  </thead>\n  <tbody>\n    <tr>\n      <th>0</th>\n      <td>25</td>\n      <td>Private</td>\n      <td>226802</td>\n      <td>11th</td>\n      <td>7</td>\n      <td>Never-married</td>\n      <td>Machine-op-inspct</td>\n      <td>Own-child</td>\n      <td>Black</td>\n      <td>Male</td>\n      <td>0</td>\n      <td>0</td>\n      <td>40</td>\n      <td>United-States</td>\n      <td>0</td>\n    </tr>\n    <tr>\n      <th>1</th>\n      <td>38</td>\n      <td>Private</td>\n      <td>89814</td>\n      <td>HS-grad</td>\n      <td>9</td>\n      <td>Married-civ-spouse</td>\n      <td>Farming-fishing</td>\n      <td>Husband</td>\n      <td>White</td>\n      <td>Male</td>\n      <td>0</td>\n      <td>0</td>\n      <td>50</td>\n      <td>United-States</td>\n      <td>0</td>\n    </tr>\n    <tr>\n      <th>2</th>\n      <td>28</td>\n      <td>Local-gov</td>\n      <td>336951</td>\n      <td>Assoc-acdm</td>\n      <td>12</td>\n      <td>Married-civ-spouse</td>\n      <td>Protective-serv</td>\n      <td>Husband</td>\n      <td>White</td>\n      <td>Male</td>\n      <td>0</td>\n      <td>0</td>\n      <td>40</td>\n      <td>United-States</td>\n      <td>1</td>\n    </tr>\n    <tr>\n      <th>3</th>\n      <td>44</td>\n      <td>Private</td>\n      <td>160323</td>\n      <td>Some-college</td>\n      <td>10</td>\n      <td>Married-civ-spouse</td>\n      <td>Machine-op-inspct</td>\n      <td>Husband</td>\n      <td>Black</td>\n      <td>Male</td>\n      <td>7688</td>\n      <td>0</td>\n      <td>40</td>\n      <td>United-States</td>\n      <td>1</td>\n    </tr>\n    <tr>\n      <th>4</th>\n      <td>18</td>\n      <td>?</td>\n      <td>103497</td>\n      <td>Some-college</td>\n      <td>10</td>\n      <td>Never-married</td>\n      <td>?</td>\n      <td>Own-child</td>\n      <td>White</td>\n      <td>Female</td>\n      <td>0</td>\n      <td>0</td>\n      <td>30</td>\n      <td>United-States</td>\n      <td>0</td>\n    </tr>\n  </tbody>\n</table>\n</div>"
     },
     "execution_count": 23,
     "metadata": {},
     "output_type": "execute_result"
    }
   ],
   "source": [
    "#convert <=50K and >50K to 0, 1 respectively\n",
    "encoder = LabelEncoder()\n",
    "balanced_dataset['income'] = encoder.fit_transform(balanced_dataset['income'])\n",
    "balanced_dataset.head(5)"
   ],
   "metadata": {
    "collapsed": false
   }
  },
  {
   "cell_type": "code",
   "execution_count": 24,
   "outputs": [],
   "source": [
    "#transform country feature to be 1 if country is the United States. Otherwise is equal to 0\n",
    "balanced_dataset['native-country'] = np.where(balanced_dataset['native-country'] == 'United-States', 1, 0)\n",
    "#transform marital status and concatenate some classes to reduce distinct classes\n",
    "balanced_dataset['marital-status'] = balanced_dataset['marital-status'].replace(\n",
    "    {' Married-civ-spouse': 'Married', ' Never-married': 'Single',\n",
    "     ' Separated': 'Divorced', ' Married-spouse-absent': 'Divorced',\n",
    "     ' Divorced': 'Divorced',\n",
    "     ' Married-AF-spouse': 'Divorced', ' Widowed': 'Widowed'})\n",
    "#transform workclass feature to be 1 if the workclass is Private and 0 if doesn't\n",
    "balanced_dataset['workclass'] = np.where(balanced_dataset['workclass'] == 'Private', 1, 0)\n",
    "#transform workclass feature to be 1 if the Sex is Male and 0 if doesn't\n",
    "balanced_dataset['gender'] = np.where(balanced_dataset['gender'] == 'Male', 1, 0)\n",
    "#transform workclass feature to be 1 if the Race is White and 0 if doesn't\n",
    "balanced_dataset['race'] = np.where(balanced_dataset['race'] == 'White', 1, 0)"
   ],
   "metadata": {
    "collapsed": false
   }
  },
  {
   "cell_type": "code",
   "execution_count": 25,
   "outputs": [],
   "source": [
    "#create ordered label for education\n",
    "education_mapping = {'Preschool': 0, '1st-4th': 1, '5th-6th': 2, '7th-8th': 3, '9th': 4, '10th': 5,\n",
    "                     '11th': 6, '12th': 7, 'HS-grad': 8, 'Some-college': 0, 'Assoc-acdm': 10,\n",
    "                     'Assoc-voc': 11, 'Bachelors': 12, 'Prof-school': 13, 'Masters': 14, 'Doctorate': 15\n",
    "                     }\n",
    "balanced_dataset['education'] = balanced_dataset['education'].map(education_mapping)"
   ],
   "metadata": {
    "collapsed": false
   }
  },
  {
   "cell_type": "code",
   "execution_count": 26,
   "outputs": [],
   "source": [
    "relationship_ordered = balanced_dataset.groupby(['relationship'])['income'].count().sort_values().index\n",
    "relationship_ordered = {k: i for i, k in enumerate(relationship_ordered, 0)}\n",
    "balanced_dataset['relationship'] = balanced_dataset['relationship'].map(relationship_ordered)"
   ],
   "metadata": {
    "collapsed": false
   }
  },
  {
   "cell_type": "code",
   "execution_count": 27,
   "outputs": [],
   "source": [
    "occupation_ordered = balanced_dataset.groupby(['occupation'])['income'].count().sort_values().index\n",
    "occupation_ordered = {k: i for i, k in enumerate(occupation_ordered, 0)}\n",
    "balanced_dataset['occupation'] = balanced_dataset['occupation'].map(occupation_ordered)"
   ],
   "metadata": {
    "collapsed": false
   }
  },
  {
   "cell_type": "code",
   "execution_count": 28,
   "outputs": [],
   "source": [
    "marital_ordered = balanced_dataset.groupby(['marital-status'])['income'].count().sort_values().index\n",
    "marital_ordered = {k: i for i, k in enumerate(marital_ordered, 0)}\n",
    "balanced_dataset['marital-status'] = balanced_dataset['marital-status'].map(marital_ordered)"
   ],
   "metadata": {
    "collapsed": false
   }
  },
  {
   "cell_type": "code",
   "execution_count": 29,
   "outputs": [
    {
     "data": {
      "text/plain": "   age  workclass  fnlwgt  education  educational-num  marital-status  \\\n0   25          1  226802          6                7               5   \n1   38          1   89814          8                9               6   \n2   28          0  336951         10               12               6   \n3   44          1  160323          0               10               6   \n4   18          0  103497          0               10               5   \n5   34          1  198693          5                6               5   \n6   29          0  227026          8                9               5   \n7   63          0  104626         13               15               6   \n8   24          1  369667          0               10               5   \n9   55          1  104996          3                4               6   \n\n   occupation  relationship  race  gender  capital-gain  capital-loss  \\\n0           8             3     0       1             0             0   \n1           4             5     1       1             0             0   \n2           2             5     1       1             0             0   \n3           8             5     0       1          7688             0   \n4           7             3     1       0             0             0   \n5           9             4     1       1             0             0   \n6           7             2     0       1             0             0   \n7          14             5     1       1          3103             0   \n8           9             2     1       0             0             0   \n9          13             5     1       1             0             0   \n\n   hours-per-week  native-country  income  \n0              40               1       0  \n1              50               1       0  \n2              40               1       1  \n3              40               1       1  \n4              30               1       0  \n5              30               1       0  \n6              40               1       0  \n7              32               1       1  \n8              40               1       0  \n9              10               1       0  ",
      "text/html": "<div>\n<style scoped>\n    .dataframe tbody tr th:only-of-type {\n        vertical-align: middle;\n    }\n\n    .dataframe tbody tr th {\n        vertical-align: top;\n    }\n\n    .dataframe thead th {\n        text-align: right;\n    }\n</style>\n<table border=\"1\" class=\"dataframe\">\n  <thead>\n    <tr style=\"text-align: right;\">\n      <th></th>\n      <th>age</th>\n      <th>workclass</th>\n      <th>fnlwgt</th>\n      <th>education</th>\n      <th>educational-num</th>\n      <th>marital-status</th>\n      <th>occupation</th>\n      <th>relationship</th>\n      <th>race</th>\n      <th>gender</th>\n      <th>capital-gain</th>\n      <th>capital-loss</th>\n      <th>hours-per-week</th>\n      <th>native-country</th>\n      <th>income</th>\n    </tr>\n  </thead>\n  <tbody>\n    <tr>\n      <th>0</th>\n      <td>25</td>\n      <td>1</td>\n      <td>226802</td>\n      <td>6</td>\n      <td>7</td>\n      <td>5</td>\n      <td>8</td>\n      <td>3</td>\n      <td>0</td>\n      <td>1</td>\n      <td>0</td>\n      <td>0</td>\n      <td>40</td>\n      <td>1</td>\n      <td>0</td>\n    </tr>\n    <tr>\n      <th>1</th>\n      <td>38</td>\n      <td>1</td>\n      <td>89814</td>\n      <td>8</td>\n      <td>9</td>\n      <td>6</td>\n      <td>4</td>\n      <td>5</td>\n      <td>1</td>\n      <td>1</td>\n      <td>0</td>\n      <td>0</td>\n      <td>50</td>\n      <td>1</td>\n      <td>0</td>\n    </tr>\n    <tr>\n      <th>2</th>\n      <td>28</td>\n      <td>0</td>\n      <td>336951</td>\n      <td>10</td>\n      <td>12</td>\n      <td>6</td>\n      <td>2</td>\n      <td>5</td>\n      <td>1</td>\n      <td>1</td>\n      <td>0</td>\n      <td>0</td>\n      <td>40</td>\n      <td>1</td>\n      <td>1</td>\n    </tr>\n    <tr>\n      <th>3</th>\n      <td>44</td>\n      <td>1</td>\n      <td>160323</td>\n      <td>0</td>\n      <td>10</td>\n      <td>6</td>\n      <td>8</td>\n      <td>5</td>\n      <td>0</td>\n      <td>1</td>\n      <td>7688</td>\n      <td>0</td>\n      <td>40</td>\n      <td>1</td>\n      <td>1</td>\n    </tr>\n    <tr>\n      <th>4</th>\n      <td>18</td>\n      <td>0</td>\n      <td>103497</td>\n      <td>0</td>\n      <td>10</td>\n      <td>5</td>\n      <td>7</td>\n      <td>3</td>\n      <td>1</td>\n      <td>0</td>\n      <td>0</td>\n      <td>0</td>\n      <td>30</td>\n      <td>1</td>\n      <td>0</td>\n    </tr>\n    <tr>\n      <th>5</th>\n      <td>34</td>\n      <td>1</td>\n      <td>198693</td>\n      <td>5</td>\n      <td>6</td>\n      <td>5</td>\n      <td>9</td>\n      <td>4</td>\n      <td>1</td>\n      <td>1</td>\n      <td>0</td>\n      <td>0</td>\n      <td>30</td>\n      <td>1</td>\n      <td>0</td>\n    </tr>\n    <tr>\n      <th>6</th>\n      <td>29</td>\n      <td>0</td>\n      <td>227026</td>\n      <td>8</td>\n      <td>9</td>\n      <td>5</td>\n      <td>7</td>\n      <td>2</td>\n      <td>0</td>\n      <td>1</td>\n      <td>0</td>\n      <td>0</td>\n      <td>40</td>\n      <td>1</td>\n      <td>0</td>\n    </tr>\n    <tr>\n      <th>7</th>\n      <td>63</td>\n      <td>0</td>\n      <td>104626</td>\n      <td>13</td>\n      <td>15</td>\n      <td>6</td>\n      <td>14</td>\n      <td>5</td>\n      <td>1</td>\n      <td>1</td>\n      <td>3103</td>\n      <td>0</td>\n      <td>32</td>\n      <td>1</td>\n      <td>1</td>\n    </tr>\n    <tr>\n      <th>8</th>\n      <td>24</td>\n      <td>1</td>\n      <td>369667</td>\n      <td>0</td>\n      <td>10</td>\n      <td>5</td>\n      <td>9</td>\n      <td>2</td>\n      <td>1</td>\n      <td>0</td>\n      <td>0</td>\n      <td>0</td>\n      <td>40</td>\n      <td>1</td>\n      <td>0</td>\n    </tr>\n    <tr>\n      <th>9</th>\n      <td>55</td>\n      <td>1</td>\n      <td>104996</td>\n      <td>3</td>\n      <td>4</td>\n      <td>6</td>\n      <td>13</td>\n      <td>5</td>\n      <td>1</td>\n      <td>1</td>\n      <td>0</td>\n      <td>0</td>\n      <td>10</td>\n      <td>1</td>\n      <td>0</td>\n    </tr>\n  </tbody>\n</table>\n</div>"
     },
     "execution_count": 29,
     "metadata": {},
     "output_type": "execute_result"
    }
   ],
   "source": [
    "balanced_dataset.head(10)"
   ],
   "metadata": {
    "collapsed": false
   }
  },
  {
   "cell_type": "code",
   "execution_count": 30,
   "outputs": [
    {
     "data": {
      "text/plain": "age                0\nworkclass          0\nfnlwgt             0\neducation          0\neducational-num    0\nmarital-status     0\noccupation         0\nrelationship       0\nrace               0\ngender             0\ncapital-gain       0\ncapital-loss       0\nhours-per-week     0\nnative-country     0\nincome             0\ndtype: int64"
     },
     "execution_count": 30,
     "metadata": {},
     "output_type": "execute_result"
    }
   ],
   "source": [
    "balanced_dataset.isnull().sum()"
   ],
   "metadata": {
    "collapsed": false
   }
  },
  {
   "cell_type": "code",
   "execution_count": 31,
   "outputs": [],
   "source": [
    "balanced_dataset.drop('fnlwgt', axis=1, inplace=True)  # it is not a useful feature for predicting the wage class"
   ],
   "metadata": {
    "collapsed": false
   }
  },
  {
   "cell_type": "code",
   "execution_count": 32,
   "outputs": [],
   "source": [
    "#scaling the train set with StandardScaler\n",
    "scaler = StandardScaler()\n",
    "scaled_features_balanced_dataset = scaler.fit_transform(balanced_dataset.drop('income', axis=1))\n",
    "scaled_features_balanced_dataset = pd.DataFrame(scaled_features_balanced_dataset,\n",
    "                                                columns=balanced_dataset.drop('income', axis=1).columns)"
   ],
   "metadata": {
    "collapsed": false
   }
  },
  {
   "cell_type": "code",
   "execution_count": 33,
   "outputs": [],
   "source": [
    "#undersampling the train set\n",
    "under = OneSidedSelection()\n",
    "X_train_res, y_train_res = under.fit_resample(scaled_features_balanced_dataset, balanced_dataset['income'])\n",
    "\n",
    "#oversampling the train set\n",
    "sm = SMOTE()\n",
    "X_train_res, y_train_res = sm.fit_resample(X_train_res, y_train_res)\n",
    "\n",
    "X_train_res = pd.DataFrame(X_train_res, columns=balanced_dataset.drop('income', axis=1).columns)\n",
    "\n",
    "#creating the final train\n",
    "final_balanced_dataset = pd.concat([X_train_res, y_train_res], axis=1)"
   ],
   "metadata": {
    "collapsed": false
   }
  },
  {
   "cell_type": "code",
   "execution_count": 34,
   "outputs": [],
   "source": [
    "dataset = pd.read_csv('../works/data/adult.csv')\n",
    "encoder = LabelEncoder()\n",
    "dataset['income'] = encoder.fit_transform(dataset['income'])\n",
    "dataset['native-country'] = np.where(dataset['native-country'] == 'United-States', 1, 0)\n",
    "dataset['marital-status'] = dataset['marital-status'].replace(\n",
    "    {' Married-civ-spouse': 'Married', ' Never-married': 'Single',\n",
    "     ' Separated': 'Divorced', ' Married-spouse-absent': 'Divorced',\n",
    "     ' Divorced': 'Divorced',\n",
    "     ' Married-AF-spouse': 'Divorced', ' Widowed': 'Widowed'})\n",
    "dataset['workclass'] = np.where(dataset['workclass'] == 'Private', 1, 0)\n",
    "dataset['gender'] = np.where(dataset['gender'] == 'Male', 1, 0)\n",
    "dataset['race'] = np.where(dataset['race'] == 'White', 1, 0)\n",
    "education_mapping = {'Preschool': 0, '1st-4th': 1, '5th-6th': 2, '7th-8th': 3, '9th': 4, '10th': 5,\n",
    "                     '11th': 6, '12th': 7, 'HS-grad': 8, 'Some-college': 0, 'Assoc-acdm': 10,\n",
    "                     'Assoc-voc': 11, 'Bachelors': 12, 'Prof-school': 13, 'Masters': 14, 'Doctorate': 15\n",
    "                     }\n",
    "dataset['education'] = dataset['education'].map(education_mapping)\n",
    "relationship_ordered = dataset.groupby(['relationship'])['income'].count().sort_values().index\n",
    "relationship_ordered = {k: i for i, k in enumerate(relationship_ordered, 0)}\n",
    "dataset['relationship'] = dataset['relationship'].map(relationship_ordered)\n",
    "occupation_ordered = dataset.groupby(['occupation'])['income'].count().sort_values().index\n",
    "occupation_ordered = {k: i for i, k in enumerate(occupation_ordered, 0)}\n",
    "dataset['occupation'] = dataset['occupation'].map(occupation_ordered)\n",
    "marital_ordered = dataset.groupby(['marital-status'])['income'].count().sort_values().index\n",
    "marital_ordered = {k: i for i, k in enumerate(marital_ordered, 0)}\n",
    "dataset['marital-status'] = dataset['marital-status'].map(marital_ordered)\n",
    "dataset.drop('fnlwgt', axis=1, inplace=True)  # it is not a useful feature for predicting the wage class\n",
    "scaler = StandardScaler()\n",
    "scaled_features_balanced_dataset = scaler.fit_transform(dataset.drop('income', axis=1))\n",
    "scaled_features_balanced_dataset = pd.DataFrame(scaled_features_balanced_dataset,\n",
    "                                                columns=dataset.drop('income', axis=1).columns)\n",
    "# undersampling the train set\n",
    "under = OneSidedSelection()\n",
    "x_train_res, y_train_res = under.fit_resample(scaled_features_balanced_dataset, dataset['income'])\n",
    "\n",
    "# oversampling the train set\n",
    "sm = SMOTE()\n",
    "x_train_res, y_train_res = sm.fit_resample(x_train_res, y_train_res)\n",
    "\n",
    "x_train_res = pd.DataFrame(x_train_res, columns=dataset.drop('income', axis=1).columns)\n",
    "\n",
    "# creating the final train\n",
    "final_balanced_dataset = pd.concat([x_train_res, y_train_res], axis=1)"
   ],
   "metadata": {
    "collapsed": false
   }
  },
  {
   "cell_type": "code",
   "execution_count": 35,
   "outputs": [
    {
     "data": {
      "text/plain": "        age  workclass  education  educational-num  marital-status  \\\n0  1.411808   0.663711  -1.104616        -2.753106        0.807497   \n1 -0.995129   0.663711  -0.241697        -1.197259       -0.101107   \n2 -0.046942   0.663711   0.189763        -0.419335        0.807497   \n3 -1.505691  -1.506680  -1.536076        -0.030373       -0.101107   \n4 -0.338691   0.663711  -0.457427        -1.586221       -0.101107   \n5 -0.703379  -1.506680   0.189763        -0.419335       -0.101107   \n6 -1.068066   0.663711  -1.536076        -0.030373       -0.101107   \n7  1.192996   0.663711  -0.888886        -2.364144        0.807497   \n8 -0.192816  -1.506680   1.052682         1.136512        0.807497   \n9 -0.922191   0.663711   0.189763        -0.419335       -0.101107   \n\n   occupation  relationship      race   gender  capital-gain  capital-loss  \\\n0   -1.786217      0.902898  0.411743  0.70422     -0.144804     -0.217127   \n1   -0.563611     -0.567717 -2.428701  0.70422     -0.144804     -0.217127   \n2   -1.786217      0.902898  0.411743  0.70422     -0.144804     -0.217127   \n3   -0.869262     -0.567717  0.411743 -1.42001     -0.144804     -0.217127   \n4   -0.257960      0.167590  0.411743  0.70422     -0.144804     -0.217127   \n5   -0.869262     -1.303025 -2.428701  0.70422     -0.144804     -0.217127   \n6   -0.257960     -1.303025  0.411743 -1.42001     -0.144804     -0.217127   \n7    0.964646      0.902898  0.411743  0.70422     -0.144804     -0.217127   \n8    0.353343      0.902898  0.411743  0.70422     -0.144804     -0.217127   \n9    0.353343      0.167590  0.411743 -1.42001     -0.144804     -0.217127   \n\n   hours-per-week  native-country  income  \n0       -0.034087       -2.957854       0  \n1       -0.034087        0.338083       0  \n2        0.772930        0.338083       0  \n3       -0.841104        0.338083       0  \n4       -0.841104        0.338083       0  \n5       -0.034087        0.338083       0  \n6       -0.034087        0.338083       0  \n7       -2.455137        0.338083       0  \n8       -0.034087        0.338083       0  \n9       -0.114789        0.338083       0  ",
      "text/html": "<div>\n<style scoped>\n    .dataframe tbody tr th:only-of-type {\n        vertical-align: middle;\n    }\n\n    .dataframe tbody tr th {\n        vertical-align: top;\n    }\n\n    .dataframe thead th {\n        text-align: right;\n    }\n</style>\n<table border=\"1\" class=\"dataframe\">\n  <thead>\n    <tr style=\"text-align: right;\">\n      <th></th>\n      <th>age</th>\n      <th>workclass</th>\n      <th>education</th>\n      <th>educational-num</th>\n      <th>marital-status</th>\n      <th>occupation</th>\n      <th>relationship</th>\n      <th>race</th>\n      <th>gender</th>\n      <th>capital-gain</th>\n      <th>capital-loss</th>\n      <th>hours-per-week</th>\n      <th>native-country</th>\n      <th>income</th>\n    </tr>\n  </thead>\n  <tbody>\n    <tr>\n      <th>0</th>\n      <td>1.411808</td>\n      <td>0.663711</td>\n      <td>-1.104616</td>\n      <td>-2.753106</td>\n      <td>0.807497</td>\n      <td>-1.786217</td>\n      <td>0.902898</td>\n      <td>0.411743</td>\n      <td>0.70422</td>\n      <td>-0.144804</td>\n      <td>-0.217127</td>\n      <td>-0.034087</td>\n      <td>-2.957854</td>\n      <td>0</td>\n    </tr>\n    <tr>\n      <th>1</th>\n      <td>-0.995129</td>\n      <td>0.663711</td>\n      <td>-0.241697</td>\n      <td>-1.197259</td>\n      <td>-0.101107</td>\n      <td>-0.563611</td>\n      <td>-0.567717</td>\n      <td>-2.428701</td>\n      <td>0.70422</td>\n      <td>-0.144804</td>\n      <td>-0.217127</td>\n      <td>-0.034087</td>\n      <td>0.338083</td>\n      <td>0</td>\n    </tr>\n    <tr>\n      <th>2</th>\n      <td>-0.046942</td>\n      <td>0.663711</td>\n      <td>0.189763</td>\n      <td>-0.419335</td>\n      <td>0.807497</td>\n      <td>-1.786217</td>\n      <td>0.902898</td>\n      <td>0.411743</td>\n      <td>0.70422</td>\n      <td>-0.144804</td>\n      <td>-0.217127</td>\n      <td>0.772930</td>\n      <td>0.338083</td>\n      <td>0</td>\n    </tr>\n    <tr>\n      <th>3</th>\n      <td>-1.505691</td>\n      <td>-1.506680</td>\n      <td>-1.536076</td>\n      <td>-0.030373</td>\n      <td>-0.101107</td>\n      <td>-0.869262</td>\n      <td>-0.567717</td>\n      <td>0.411743</td>\n      <td>-1.42001</td>\n      <td>-0.144804</td>\n      <td>-0.217127</td>\n      <td>-0.841104</td>\n      <td>0.338083</td>\n      <td>0</td>\n    </tr>\n    <tr>\n      <th>4</th>\n      <td>-0.338691</td>\n      <td>0.663711</td>\n      <td>-0.457427</td>\n      <td>-1.586221</td>\n      <td>-0.101107</td>\n      <td>-0.257960</td>\n      <td>0.167590</td>\n      <td>0.411743</td>\n      <td>0.70422</td>\n      <td>-0.144804</td>\n      <td>-0.217127</td>\n      <td>-0.841104</td>\n      <td>0.338083</td>\n      <td>0</td>\n    </tr>\n    <tr>\n      <th>5</th>\n      <td>-0.703379</td>\n      <td>-1.506680</td>\n      <td>0.189763</td>\n      <td>-0.419335</td>\n      <td>-0.101107</td>\n      <td>-0.869262</td>\n      <td>-1.303025</td>\n      <td>-2.428701</td>\n      <td>0.70422</td>\n      <td>-0.144804</td>\n      <td>-0.217127</td>\n      <td>-0.034087</td>\n      <td>0.338083</td>\n      <td>0</td>\n    </tr>\n    <tr>\n      <th>6</th>\n      <td>-1.068066</td>\n      <td>0.663711</td>\n      <td>-1.536076</td>\n      <td>-0.030373</td>\n      <td>-0.101107</td>\n      <td>-0.257960</td>\n      <td>-1.303025</td>\n      <td>0.411743</td>\n      <td>-1.42001</td>\n      <td>-0.144804</td>\n      <td>-0.217127</td>\n      <td>-0.034087</td>\n      <td>0.338083</td>\n      <td>0</td>\n    </tr>\n    <tr>\n      <th>7</th>\n      <td>1.192996</td>\n      <td>0.663711</td>\n      <td>-0.888886</td>\n      <td>-2.364144</td>\n      <td>0.807497</td>\n      <td>0.964646</td>\n      <td>0.902898</td>\n      <td>0.411743</td>\n      <td>0.70422</td>\n      <td>-0.144804</td>\n      <td>-0.217127</td>\n      <td>-2.455137</td>\n      <td>0.338083</td>\n      <td>0</td>\n    </tr>\n    <tr>\n      <th>8</th>\n      <td>-0.192816</td>\n      <td>-1.506680</td>\n      <td>1.052682</td>\n      <td>1.136512</td>\n      <td>0.807497</td>\n      <td>0.353343</td>\n      <td>0.902898</td>\n      <td>0.411743</td>\n      <td>0.70422</td>\n      <td>-0.144804</td>\n      <td>-0.217127</td>\n      <td>-0.034087</td>\n      <td>0.338083</td>\n      <td>0</td>\n    </tr>\n    <tr>\n      <th>9</th>\n      <td>-0.922191</td>\n      <td>0.663711</td>\n      <td>0.189763</td>\n      <td>-0.419335</td>\n      <td>-0.101107</td>\n      <td>0.353343</td>\n      <td>0.167590</td>\n      <td>0.411743</td>\n      <td>-1.42001</td>\n      <td>-0.144804</td>\n      <td>-0.217127</td>\n      <td>-0.114789</td>\n      <td>0.338083</td>\n      <td>0</td>\n    </tr>\n  </tbody>\n</table>\n</div>"
     },
     "execution_count": 35,
     "metadata": {},
     "output_type": "execute_result"
    }
   ],
   "source": [
    "final_balanced_dataset.head(10)"
   ],
   "metadata": {
    "collapsed": false
   }
  },
  {
   "cell_type": "code",
   "execution_count": 36,
   "outputs": [
    {
     "name": "stdout",
     "output_type": "stream",
     "text": [
      "<class 'pandas.core.frame.DataFrame'>\n",
      "RangeIndex: 71300 entries, 0 to 71299\n",
      "Data columns (total 14 columns):\n",
      " #   Column           Non-Null Count  Dtype  \n",
      "---  ------           --------------  -----  \n",
      " 0   age              71300 non-null  float64\n",
      " 1   workclass        71300 non-null  float64\n",
      " 2   education        71300 non-null  float64\n",
      " 3   educational-num  71300 non-null  float64\n",
      " 4   marital-status   71300 non-null  float64\n",
      " 5   occupation       71300 non-null  float64\n",
      " 6   relationship     71300 non-null  float64\n",
      " 7   race             71300 non-null  float64\n",
      " 8   gender           71300 non-null  float64\n",
      " 9   capital-gain     71300 non-null  float64\n",
      " 10  capital-loss     71300 non-null  float64\n",
      " 11  hours-per-week   71300 non-null  float64\n",
      " 12  native-country   71300 non-null  float64\n",
      " 13  income           71300 non-null  int32  \n",
      "dtypes: float64(13), int32(1)\n",
      "memory usage: 7.3 MB\n"
     ]
    }
   ],
   "source": [
    "final_balanced_dataset.info()"
   ],
   "metadata": {
    "collapsed": false
   }
  },
  {
   "cell_type": "code",
   "execution_count": 37,
   "outputs": [
    {
     "data": {
      "text/plain": "0    35650\n1    35650\nName: income, dtype: int64"
     },
     "execution_count": 37,
     "metadata": {},
     "output_type": "execute_result"
    }
   ],
   "source": [
    "final_balanced_dataset['income'].value_counts()  #now train set is balanced"
   ],
   "metadata": {
    "collapsed": false
   }
  },
  {
   "cell_type": "code",
   "execution_count": 38,
   "outputs": [
    {
     "data": {
      "text/plain": "<Figure size 1600x827 with 1 Axes>",
      "image/png": "[encoded data removed]"
     },
     "metadata": {},
     "output_type": "display_data"
    }
   ],
   "source": [
    "ax = sns.countplot(x=final_balanced_dataset['income'], hue=final_balanced_dataset['income'], edgecolor='k',\n",
    "                   palette='Set2')\n",
    "ax.set_title('Income Class Count')\n",
    "ax.set_xlabel('Income')\n",
    "plt.show()"
   ],
   "metadata": {
    "collapsed": false
   }
  },
  {
   "cell_type": "code",
   "execution_count": 39,
   "outputs": [
    {
     "data": {
      "text/plain": "        age  workclass  education  educational-num  marital-status  \\\n0  1.411808   0.663711  -1.104616        -2.753106        0.807497   \n1 -0.995129   0.663711  -0.241697        -1.197259       -0.101107   \n2 -0.046942   0.663711   0.189763        -0.419335        0.807497   \n3 -1.505691  -1.506680  -1.536076        -0.030373       -0.101107   \n4 -0.338691   0.663711  -0.457427        -1.586221       -0.101107   \n\n   occupation  relationship      race   gender  capital-gain  capital-loss  \\\n0   -1.786217      0.902898  0.411743  0.70422     -0.144804     -0.217127   \n1   -0.563611     -0.567717 -2.428701  0.70422     -0.144804     -0.217127   \n2   -1.786217      0.902898  0.411743  0.70422     -0.144804     -0.217127   \n3   -0.869262     -0.567717  0.411743 -1.42001     -0.144804     -0.217127   \n4   -0.257960      0.167590  0.411743  0.70422     -0.144804     -0.217127   \n\n   hours-per-week  native-country  \n0       -0.034087       -2.957854  \n1       -0.034087        0.338083  \n2        0.772930        0.338083  \n3       -0.841104        0.338083  \n4       -0.841104        0.338083  ",
      "text/html": "<div>\n<style scoped>\n    .dataframe tbody tr th:only-of-type {\n        vertical-align: middle;\n    }\n\n    .dataframe tbody tr th {\n        vertical-align: top;\n    }\n\n    .dataframe thead th {\n        text-align: right;\n    }\n</style>\n<table border=\"1\" class=\"dataframe\">\n  <thead>\n    <tr style=\"text-align: right;\">\n      <th></th>\n      <th>age</th>\n      <th>workclass</th>\n      <th>education</th>\n      <th>educational-num</th>\n      <th>marital-status</th>\n      <th>occupation</th>\n      <th>relationship</th>\n      <th>race</th>\n      <th>gender</th>\n      <th>capital-gain</th>\n      <th>capital-loss</th>\n      <th>hours-per-week</th>\n      <th>native-country</th>\n    </tr>\n  </thead>\n  <tbody>\n    <tr>\n      <th>0</th>\n      <td>1.411808</td>\n      <td>0.663711</td>\n      <td>-1.104616</td>\n      <td>-2.753106</td>\n      <td>0.807497</td>\n      <td>-1.786217</td>\n      <td>0.902898</td>\n      <td>0.411743</td>\n      <td>0.70422</td>\n      <td>-0.144804</td>\n      <td>-0.217127</td>\n      <td>-0.034087</td>\n      <td>-2.957854</td>\n    </tr>\n    <tr>\n      <th>1</th>\n      <td>-0.995129</td>\n      <td>0.663711</td>\n      <td>-0.241697</td>\n      <td>-1.197259</td>\n      <td>-0.101107</td>\n      <td>-0.563611</td>\n      <td>-0.567717</td>\n      <td>-2.428701</td>\n      <td>0.70422</td>\n      <td>-0.144804</td>\n      <td>-0.217127</td>\n      <td>-0.034087</td>\n      <td>0.338083</td>\n    </tr>\n    <tr>\n      <th>2</th>\n      <td>-0.046942</td>\n      <td>0.663711</td>\n      <td>0.189763</td>\n      <td>-0.419335</td>\n      <td>0.807497</td>\n      <td>-1.786217</td>\n      <td>0.902898</td>\n      <td>0.411743</td>\n      <td>0.70422</td>\n      <td>-0.144804</td>\n      <td>-0.217127</td>\n      <td>0.772930</td>\n      <td>0.338083</td>\n    </tr>\n    <tr>\n      <th>3</th>\n      <td>-1.505691</td>\n      <td>-1.506680</td>\n      <td>-1.536076</td>\n      <td>-0.030373</td>\n      <td>-0.101107</td>\n      <td>-0.869262</td>\n      <td>-0.567717</td>\n      <td>0.411743</td>\n      <td>-1.42001</td>\n      <td>-0.144804</td>\n      <td>-0.217127</td>\n      <td>-0.841104</td>\n      <td>0.338083</td>\n    </tr>\n    <tr>\n      <th>4</th>\n      <td>-0.338691</td>\n      <td>0.663711</td>\n      <td>-0.457427</td>\n      <td>-1.586221</td>\n      <td>-0.101107</td>\n      <td>-0.257960</td>\n      <td>0.167590</td>\n      <td>0.411743</td>\n      <td>0.70422</td>\n      <td>-0.144804</td>\n      <td>-0.217127</td>\n      <td>-0.841104</td>\n      <td>0.338083</td>\n    </tr>\n  </tbody>\n</table>\n</div>"
     },
     "execution_count": 39,
     "metadata": {},
     "output_type": "execute_result"
    }
   ],
   "source": [
    "balanced_Y = final_balanced_dataset.income\n",
    "final_balanced_dataset.drop(labels=['income'], axis=1, inplace=True)\n",
    "final_balanced_dataset.head(5)"
   ],
   "metadata": {
    "collapsed": false
   }
  },
  {
   "cell_type": "code",
   "execution_count": 40,
   "outputs": [
    {
     "name": "stdout",
     "output_type": "stream",
     "text": [
      "<class 'pandas.core.frame.DataFrame'>\n",
      "RangeIndex: 71300 entries, 0 to 71299\n",
      "Data columns (total 13 columns):\n",
      " #   Column           Non-Null Count  Dtype  \n",
      "---  ------           --------------  -----  \n",
      " 0   age              71300 non-null  float64\n",
      " 1   workclass        71300 non-null  float64\n",
      " 2   education        71300 non-null  float64\n",
      " 3   educational-num  71300 non-null  float64\n",
      " 4   marital-status   71300 non-null  float64\n",
      " 5   occupation       71300 non-null  float64\n",
      " 6   relationship     71300 non-null  float64\n",
      " 7   race             71300 non-null  float64\n",
      " 8   gender           71300 non-null  float64\n",
      " 9   capital-gain     71300 non-null  float64\n",
      " 10  capital-loss     71300 non-null  float64\n",
      " 11  hours-per-week   71300 non-null  float64\n",
      " 12  native-country   71300 non-null  float64\n",
      "dtypes: float64(13)\n",
      "memory usage: 7.1 MB\n"
     ]
    }
   ],
   "source": [
    "final_balanced_dataset.info()"
   ],
   "metadata": {
    "collapsed": false
   }
  },
  {
   "cell_type": "code",
   "execution_count": 41,
   "outputs": [],
   "source": [
    "balanced_X_train, balanced_X_test, balanced_y_train, balanced_y_test = train_test_split(final_balanced_dataset,\n",
    "                                                                                        balanced_Y, test_size=0.2,\n",
    "                                                                                        random_state=0)"
   ],
   "metadata": {
    "collapsed": false
   }
  },
  {
   "cell_type": "code",
   "execution_count": 42,
   "outputs": [],
   "source": [
    "balanced_model = XGBClassifier()"
   ],
   "metadata": {
    "collapsed": false
   }
  },
  {
   "cell_type": "code",
   "execution_count": 43,
   "outputs": [
    {
     "data": {
      "text/plain": "XGBClassifier(base_score=0.5, booster='gbtree', callbacks=None,\n              colsample_bylevel=1, colsample_bynode=1, colsample_bytree=1,\n              early_stopping_rounds=None, enable_categorical=False,\n              eval_metric=None, gamma=0, gpu_id=-1, grow_policy='depthwise',\n              importance_type=None, interaction_constraints='',\n              learning_rate=0.300000012, max_bin=256, max_cat_to_onehot=4,\n              max_delta_step=0, max_depth=6, max_leaves=0, min_child_weight=1,\n              missing=nan, monotone_constraints='()', n_estimators=100,\n              n_jobs=0, num_parallel_tree=1, predictor='auto', random_state=0,\n              reg_alpha=0, reg_lambda=1, ...)"
     },
     "execution_count": 43,
     "metadata": {},
     "output_type": "execute_result"
    }
   ],
   "source": [
    "balanced_model.fit(balanced_X_train, balanced_y_train)"
   ],
   "metadata": {
    "collapsed": false
   }
  },
  {
   "cell_type": "code",
   "execution_count": 44,
   "outputs": [],
   "source": [
    "balanced_y_pred = balanced_model.predict(balanced_X_test)"
   ],
   "metadata": {
    "collapsed": false
   }
  },
  {
   "cell_type": "markdown",
   "source": [
    "# Balanced / not balanced outcome comparision"
   ],
   "metadata": {
    "collapsed": false
   }
  },
  {
   "cell_type": "code",
   "execution_count": 45,
   "outputs": [
    {
     "name": "stdout",
     "output_type": "stream",
     "text": [
      "              precision    recall  f1-score   support\n",
      "\n",
      "           0       0.88      0.94      0.91      7420\n",
      "           1       0.77      0.60      0.68      2349\n",
      "\n",
      "    accuracy                           0.86      9769\n",
      "   macro avg       0.83      0.77      0.79      9769\n",
      "weighted avg       0.86      0.86      0.85      9769\n",
      "\n"
     ]
    }
   ],
   "source": [
    "print(classification_report(n_y_test, n_y_pred))"
   ],
   "metadata": {
    "collapsed": false
   }
  },
  {
   "cell_type": "code",
   "execution_count": 46,
   "outputs": [
    {
     "name": "stdout",
     "output_type": "stream",
     "text": [
      "0.8609888422561163\n"
     ]
    }
   ],
   "source": [
    "print(accuracy_score(n_y_test, n_y_pred))"
   ],
   "metadata": {
    "collapsed": false
   }
  },
  {
   "cell_type": "code",
   "execution_count": 47,
   "outputs": [
    {
     "name": "stdout",
     "output_type": "stream",
     "text": [
      "              precision    recall  f1-score   support\n",
      "\n",
      "           0       0.91      0.90      0.90      7008\n",
      "           1       0.90      0.91      0.91      7252\n",
      "\n",
      "    accuracy                           0.91     14260\n",
      "   macro avg       0.91      0.91      0.91     14260\n",
      "weighted avg       0.91      0.91      0.91     14260\n",
      "\n"
     ]
    }
   ],
   "source": [
    "print(classification_report(balanced_y_test, balanced_y_pred))"
   ],
   "metadata": {
    "collapsed": false
   }
  },
  {
   "cell_type": "code",
   "execution_count": 48,
   "outputs": [
    {
     "name": "stdout",
     "output_type": "stream",
     "text": [
      "0.9053997194950911\n"
     ]
    }
   ],
   "source": [
    "print(accuracy_score(balanced_y_test, balanced_y_pred))"
   ],
   "metadata": {
    "collapsed": false
   }
  },
  {
   "cell_type": "code",
   "execution_count": 48,
   "outputs": [],
   "source": [],
   "metadata": {
    "collapsed": false
   }
  }
 ],
 "metadata": {
  "kernelspec": {
   "display_name": "Python 3",
   "language": "python",
   "name": "python3"
  },
  "language_info": {
   "codemirror_mode": {
    "name": "ipython",
    "version": 2
   },
   "file_extension": ".py",
   "mimetype": "text/x-python",
   "name": "python",
   "nbconvert_exporter": "python",
   "pygments_lexer": "ipython2",
   "version": "2.7.6"
  }
 },
 "nbformat": 4,
 "nbformat_minor": 0
}
